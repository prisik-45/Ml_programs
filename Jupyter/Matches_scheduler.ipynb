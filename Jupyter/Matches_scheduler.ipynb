{
 "cells": [
  {
   "cell_type": "markdown",
   "id": "8ec6db29",
   "metadata": {},
   "source": [
    "### Schedule Cricket matches"
   ]
  },
  {
   "cell_type": "code",
   "execution_count": 26,
   "id": "7b129664",
   "metadata": {},
   "outputs": [
    {
     "name": "stdout",
     "output_type": "stream",
     "text": [
      "Enter teams with space in between : ind aus eng nz sa pak ban afg ned sl\n",
      "['ind', 'aus', 'eng', 'nz', 'sa', 'pak', 'ban', 'afg', 'ned', 'sl']\n"
     ]
    }
   ],
   "source": [
    "teams = list(map(str,input('Enter teams with space in between : ').split()))\n",
    "print(teams)"
   ]
  },
  {
   "cell_type": "code",
   "execution_count": 27,
   "id": "fa14c1e7",
   "metadata": {},
   "outputs": [
    {
     "name": "stdout",
     "output_type": "stream",
     "text": [
      "10\n",
      "45\n",
      "Enter the number of knockout matches : 3\n",
      "3\n",
      "48\n"
     ]
    }
   ],
   "source": [
    "no_Teams = len(teams)\n",
    "lg_M = int(no_Teams * (no_Teams - 1) / 2)\n",
    "print(no_Teams)\n",
    "print(lg_M)\n",
    "knt_M = int(input('Enter the number of knockout matches : '))\n",
    "if knt_M > 4:\n",
    "    print('Knockout matches must be less than or equal to 4 !')\n",
    "    knt_M = 4\n",
    "elif knt_M < 1:\n",
    "    print('Knockout matches must be more than or equal to 1 !')\n",
    "print(knt_M)\n",
    "\n",
    "total_M = knt_M + lg_M\n",
    "print(total_M)"
   ]
  },
  {
   "cell_type": "code",
   "execution_count": 55,
   "id": "448cc708",
   "metadata": {},
   "outputs": [
    {
     "ename": "SyntaxError",
     "evalue": "invalid syntax (Temp/ipykernel_11208/1419828503.py, line 6)",
     "output_type": "error",
     "traceback": [
      "\u001b[1;36m  File \u001b[1;32m\"C:\\Users\\admin\\AppData\\Local\\Temp/ipykernel_11208/1419828503.py\"\u001b[1;36m, line \u001b[1;32m6\u001b[0m\n\u001b[1;33m    team2 = j if j != team1\u001b[0m\n\u001b[1;37m                           ^\u001b[0m\n\u001b[1;31mSyntaxError\u001b[0m\u001b[1;31m:\u001b[0m invalid syntax\n"
     ]
    }
   ],
   "source": [
    "import random as rd\n",
    "x = rd.randint(0,no_Teams-1)\n",
    "for i in range(no_Teams):\n",
    "    team1 = teams[x]\n",
    "    for j in teams:\n",
    "        team2 = j if j != team1 \n",
    "print(team1, team2)"
   ]
  },
  {
   "cell_type": "code",
   "execution_count": null,
   "id": "02f82ffc",
   "metadata": {},
   "outputs": [],
   "source": []
  },
  {
   "cell_type": "code",
   "execution_count": null,
   "id": "fc80935b",
   "metadata": {},
   "outputs": [],
   "source": []
  }
 ],
 "metadata": {
  "kernelspec": {
   "display_name": "Python 3 (ipykernel)",
   "language": "python",
   "name": "python3"
  },
  "language_info": {
   "codemirror_mode": {
    "name": "ipython",
    "version": 3
   },
   "file_extension": ".py",
   "mimetype": "text/x-python",
   "name": "python",
   "nbconvert_exporter": "python",
   "pygments_lexer": "ipython3",
   "version": "3.9.7"
  }
 },
 "nbformat": 4,
 "nbformat_minor": 5
}
